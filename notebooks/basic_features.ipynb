{
 "cells": [
  {
   "cell_type": "code",
   "execution_count": 18,
   "metadata": {},
   "outputs": [],
   "source": [
    "import os\n",
    "import numpy as np\n",
    "import pandas as pd\n",
    "import matplotlib.pyplot as plt\n",
    "import seaborn as sns\n",
    "\n",
    "import warnings\n",
    "warnings.filterwarnings('ignore')\n",
    "\n",
    "# from ..scripts import data_cleaning"
   ]
  },
  {
   "cell_type": "code",
   "execution_count": 24,
   "metadata": {},
   "outputs": [],
   "source": [
    "INPUT_DIR = \"../data/input/\"\n",
    "\n",
    "df = pd.read_csv(INPUT_DIR + \"train.csv\")\n",
    "test = pd.read_csv(INPUT_DIR + \"test.csv\")"
   ]
  },
  {
   "cell_type": "code",
   "execution_count": 25,
   "metadata": {},
   "outputs": [],
   "source": [
    "def clean(df: pd.DataFrame) -> None:\n",
    "    # DAYS_EMPLOYED anomalies\n",
    "    df[\"DAYS_EMPLOYED\"].replace(365243, np.nan, inplace=True)\n",
    "\n",
    "    # Encode binary categorical features\n",
    "    for col in [\"FLAG_OWN_CAR\", \"FLAG_OWN_REALTY\"]:\n",
    "            df[col].replace({\"Y\": 1, \"N\": 0}, inplace=True)\n",
    "            df[col] = df[col].astype(float)\n",
    "\n",
    "clean(df)"
   ]
  },
  {
   "cell_type": "code",
   "execution_count": 26,
   "metadata": {},
   "outputs": [],
   "source": [
    "# 新しく作成した特徴量のリスト\n",
    "new_features = [\n",
    "    \"CREDIT_INCOME_RATIO\",\n",
    "    \"ANNUITY_INCOME_RATIO\",\n",
    "    \"INCOME_PER_CHILD\",\n",
    "    \"INCOME_PER_FAM_MEMBER\",\n",
    "    \"CREDIT_TERM\",\n",
    "    \"DAYS_EMPLOYED_PERC\",\n",
    "    \"DAYS_REGISTRATION_PERC\",\n",
    "    \"DAYS_ID_PUBLISH_PERC\",\n",
    "    \"AGE_IN_YEARS\",\n",
    "    \"YEARS_EMPLOYED\"\n",
    "]\n",
    "\n",
    "def generate_basic_features(df: pd.DataFrame) -> pd.DataFrame:\n",
    "    df[\"CREDIT_INCOME_RATIO\"] = df[\"AMT_CREDIT\"] / (1 + df[\"AMT_INCOME_TOTAL\"])\n",
    "    df[\"ANNUITY_INCOME_RATIO\"] = df[\"AMT_ANNUITY\"] / (1 + df[\"AMT_INCOME_TOTAL\"])\n",
    "    df[\"INCOME_PER_CHILD\"] = df[\"AMT_INCOME_TOTAL\"] / (1 + df[\"CNT_CHILDREN\"])\n",
    "    df[\"INCOME_PER_FAM_MEMBER\"] = df[\"AMT_INCOME_TOTAL\"] / (1 + df[\"CNT_FAM_MEMBERS\"])\n",
    "    df[\"CREDIT_TERM\"] = df[\"AMT_ANNUITY\"] / (1 + df[\"AMT_CREDIT\"])\n",
    "    df[\"DAYS_EMPLOYED_PERC\"] = df[\"DAYS_EMPLOYED\"] / (1 + df[\"DAYS_BIRTH\"])\n",
    "    df[\"DAYS_REGISTRATION_PERC\"] = df[\"DAYS_REGISTRATION\"] / (1 + df[\"DAYS_BIRTH\"])\n",
    "    df[\"DAYS_ID_PUBLISH_PERC\"] = df[\"DAYS_ID_PUBLISH\"] / (1 + df[\"DAYS_BIRTH\"])\n",
    "    df[\"AGE_IN_YEARS\"] = (-df[\"DAYS_BIRTH\"] / 365).astype(float)\n",
    "    df[\"YEARS_EMPLOYED\"] = (-df[\"DAYS_EMPLOYED\"] / 365).astype(float)\n",
    "    return df\n",
    "\n",
    "\n",
    "def save_features(df: pd.DataFrame, filename: str) -> None:\n",
    "    os.makedirs(\"features\", exist_ok=True)  # 仮のフォルダ\n",
    "    df.to_csv(os.path.join(\"features\", filename), index=False)\n"
   ]
  },
  {
   "cell_type": "code",
   "execution_count": 27,
   "metadata": {},
   "outputs": [],
   "source": [
    "df = generate_basic_features(df)"
   ]
  },
  {
   "cell_type": "code",
   "execution_count": 28,
   "metadata": {},
   "outputs": [
    {
     "name": "stdout",
     "output_type": "stream",
     "text": [
      "       CREDIT_INCOME_RATIO  ANNUITY_INCOME_RATIO  INCOME_PER_CHILD  \\\n",
      "count        171202.000000         171196.000000      1.712020e+05   \n",
      "mean              3.958291              0.181052      1.393598e+05   \n",
      "std               2.688682              0.094649      1.040562e+05   \n",
      "min               0.066667              0.003333      3.000000e+03   \n",
      "25%               2.018659              0.114793      7.875000e+04   \n",
      "50%               3.267226              0.162974      1.170000e+05   \n",
      "75%               5.166108              0.229315      1.800000e+05   \n",
      "max              49.226106              1.570565      1.350000e+07   \n",
      "\n",
      "       INCOME_PER_FAM_MEMBER    CREDIT_TERM  DAYS_EMPLOYED_PERC  \\\n",
      "count           1.712000e+05  171196.000000       140304.000000   \n",
      "mean            5.738487e+04       0.053735            0.157095   \n",
      "std             4.008160e+04       0.022505            0.133476   \n",
      "min             2.647059e+03       0.022076            0.000042   \n",
      "25%             3.375000e+04       0.036900            0.056257   \n",
      "50%             4.950000e+04       0.050000            0.118795   \n",
      "75%             6.750000e+04       0.064142            0.219679   \n",
      "max             4.500000e+06       0.124429            0.728841   \n",
      "\n",
      "       DAYS_REGISTRATION_PERC  DAYS_ID_PUBLISH_PERC   AGE_IN_YEARS  \\\n",
      "count           171202.000000         171202.000000  171202.000000   \n",
      "mean                 0.316375              0.193327      43.959837   \n",
      "std                  0.214758              0.101338      11.955595   \n",
      "min                 -0.000000             -0.000000      21.021918   \n",
      "25%                  0.131892              0.116633      34.027397   \n",
      "50%                  0.302792              0.191100      43.227397   \n",
      "75%                  0.470693              0.279350      53.934247   \n",
      "max                  1.000130              0.457444      69.120548   \n",
      "\n",
      "       YEARS_EMPLOYED  \n",
      "count   140304.000000  \n",
      "mean         6.544063  \n",
      "std          6.401547  \n",
      "min          0.002740  \n",
      "25%          2.112329  \n",
      "50%          4.520548  \n",
      "75%          8.745205  \n",
      "max         49.073973  \n"
     ]
    }
   ],
   "source": [
    "description = df[new_features].describe()\n",
    "print(description)"
   ]
  },
  {
   "cell_type": "code",
   "execution_count": 29,
   "metadata": {},
   "outputs": [
    {
     "data": {
      "text/plain": [
       "<Axes: >"
      ]
     },
     "execution_count": 29,
     "metadata": {},
     "output_type": "execute_result"
    },
    {
     "data": {
      "image/png": "[encoded data removed]",
      "text/plain": [
       "<Figure size 640x480 with 1 Axes>"
      ]
     },
     "metadata": {},
     "output_type": "display_data"
    }
   ],
   "source": [
    "sns.violinplot(df['DAYS_REGISTRATION_PERC'])"
   ]
  },
  {
   "cell_type": "code",
   "execution_count": 30,
   "metadata": {},
   "outputs": [
    {
     "data": {
      "text/plain": [
       "count    171202.000000\n",
       "mean     -16045.340504\n",
       "std        4363.792228\n",
       "min      -25229.000000\n",
       "25%      -19686.000000\n",
       "50%      -15778.000000\n",
       "75%      -12420.000000\n",
       "max       -7673.000000\n",
       "Name: DAYS_BIRTH, dtype: float64"
      ]
     },
     "execution_count": 30,
     "metadata": {},
     "output_type": "execute_result"
    }
   ],
   "source": [
    "df['DAYS_BIRTH'].describe()"
   ]
  },
  {
   "cell_type": "code",
   "execution_count": 32,
   "metadata": {},
   "outputs": [],
   "source": [
    "save_features(df, 'basic_features.csv')"
   ]
  },
  {
   "cell_type": "code",
   "execution_count": null,
   "metadata": {},
   "outputs": [],
   "source": []
  }
 ],
 "metadata": {
  "kernelspec": {
   "display_name": "Python 3",
   "language": "python",
   "name": "python3"
  },
  "language_info": {
   "codemirror_mode": {
    "name": "ipython",
    "version": 3
   },
   "file_extension": ".py",
   "mimetype": "text/x-python",
   "name": "python",
   "nbconvert_exporter": "python",
   "pygments_lexer": "ipython3",
   "version": "3.10.14"
  }
 },
 "nbformat": 4,
 "nbformat_minor": 2
}
